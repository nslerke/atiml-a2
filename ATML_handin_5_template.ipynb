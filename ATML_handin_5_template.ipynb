{
  "nbformat": 4,
  "nbformat_minor": 0,
  "metadata": {
    "colab": {
      "provenance": []
    },
    "kernelspec": {
      "name": "python3",
      "display_name": "Python 3"
    },
    "language_info": {
      "name": "python"
    }
  },
  "cells": [
    {
      "cell_type": "markdown",
      "source": [
        "# Template for hand-in on private clustering\n",
        "\n",
        "Advanced Topics in Machine Learning, U. Copenhagen, fall 2023\n",
        "\n",
        "Created by Rasmus Pagh"
      ],
      "metadata": {
        "id": "QkIELpeUpjfh"
      }
    },
    {
      "cell_type": "markdown",
      "source": [
        "# Fetch and load dataset\n",
        "\n",
        "The dataset consists of 3414 embedding vectors for first names from the GloVe dataset. Each vector is a 100-dimensional unit vector."
      ],
      "metadata": {
        "id": "Fp2Mcs-1oEMN"
      }
    },
    {
      "cell_type": "code",
      "source": [
        "import pickle\n",
        "import numpy as np\n",
        "import matplotlib.pyplot as plt\n",
        "\n",
        "!curl -s https://rasmuspagh.net/data/glove.twitter.27B.100d.names.pickle -O\n",
        "input_file = \"glove.twitter.27B.100d.names.pickle\"\n",
        "with open(input_file, 'rb') as f:\n",
        "    embedding = pickle.load(f)\n",
        "names = list(embedding.keys())\n",
        "points = np.array([ embedding[x] for x in names ])\n",
        "n, d = points.shape"
      ],
      "metadata": {
        "id": "LhDvF-pEpolz"
      },
      "execution_count": null,
      "outputs": []
    },
    {
      "cell_type": "markdown",
      "source": [
        "# Non-private implementation of cost computation and k-means algorithm"
      ],
      "metadata": {
        "id": "LnytRt07oqTw"
      }
    },
    {
      "cell_type": "code",
      "execution_count": null,
      "metadata": {
        "id": "w6ltE1QiKGS_"
      },
      "outputs": [],
      "source": [
        "def compute_cost(points, centers):\n",
        "    distances_squared = np.sum((points - centers[:,np.newaxis])**2, axis=-1)\n",
        "    return np.mean(np.min(distances_squared, axis=0))\n",
        "\n",
        "\n",
        "def k_means(points, k, t):\n",
        "    initial_assignment = np.random.choice(range(k), n)\n",
        "    cluster_indexes = [ (initial_assignment == i) for i in range(k) ]\n",
        "    cluster_sizes = [ cluster_indexes[i].sum() for i in range(k) ]\n",
        "\n",
        "    for l in range(t):\n",
        "        cluster_sums = [ np.sum(points[cluster_indexes[i]], axis=0) for i in range(k) ]\n",
        "        centers = np.array([ cluster_sums[i] / max(1, cluster_sizes[i]) for i in range(k) ])\n",
        "        distances_squared = np.sum((points - centers[:,np.newaxis])**2, axis=-1)\n",
        "        assignment = np.argmin(distances_squared, axis=0)\n",
        "        cluster_indexes = [ (assignment == i) for i in range(k) ]\n",
        "        cluster_sizes = [ cluster_indexes[i].sum() for i in range(k) ]\n",
        "\n",
        "    return centers"
      ]
    },
    {
      "cell_type": "markdown",
      "source": [
        "# Plot cost as function of number of iterations"
      ],
      "metadata": {
        "id": "zn6XsfXRnhCe"
      }
    },
    {
      "cell_type": "code",
      "source": [
        "k = 5 # Number of clusters\n",
        "\n",
        "t_range = range(1,10)\n",
        "costs = []\n",
        "for t in t_range: # number of iterations\n",
        "    centers = k_means(points, k, t)\n",
        "    costs.append(compute_cost(points, centers))\n",
        "\n",
        "fig, ax = plt.subplots()\n",
        "ax.set_xlabel('t')\n",
        "ax.set_ylabel('cost')\n",
        "ax.plot(t_range, costs)\n",
        "plt.xscale('log')\n",
        "plt.show()\n"
      ],
      "metadata": {
        "colab": {
          "base_uri": "https://localhost:8080/",
          "height": 454
        },
        "id": "7BaK6cLgm6oJ",
        "outputId": "76f7f7bb-4bce-44d2-e3f5-af49162720c1"
      },
      "execution_count": null,
      "outputs": [
        {
          "output_type": "display_data",
          "data": {
            "text/plain": [
              "<Figure size 640x480 with 1 Axes>"
            ],
            "image/png": "[encoded data removed]"
          },
          "metadata": {}
        }
      ]
    }
  ]
}